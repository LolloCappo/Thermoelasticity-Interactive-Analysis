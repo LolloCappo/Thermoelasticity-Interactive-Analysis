{
 "cells": [
  {
   "cell_type": "markdown",
   "metadata": {},
   "source": [
    "## Rifrimenti FLIR\n",
    "sperando sia utile :\n",
    "\n",
    "* flirpy [pypi](https://pypi.org/project/flirpy/) e [github](https://github.com/LJMUAstroecology/flirpy)\n",
    "\n",
    "altro interessante:\n",
    "\n",
    "* base della flir [link](https://lepton.flir.com/getting-started/quick-start-guide-getting-started-programing-with-python-sdk/)\n",
    "* costruttore della scheda [video da usb](https://github.com/groupgets/libuvc) e [mod libreria base](https://github.com/groupgets/purethermal1-uvc-capture)"
   ]
  },
  {
   "cell_type": "code",
   "execution_count": null,
   "metadata": {},
   "outputs": [],
   "source": []
  }
 ],
 "metadata": {
  "kernelspec": {
   "display_name": "Python 3",
   "language": "python",
   "name": "python3"
  },
  "language_info": {
   "codemirror_mode": {
    "name": "ipython",
    "version": 3
   },
   "file_extension": ".py",
   "mimetype": "text/x-python",
   "name": "python",
   "nbconvert_exporter": "python",
   "pygments_lexer": "ipython3",
   "version": "3.7.6"
  }
 },
 "nbformat": 4,
 "nbformat_minor": 4
}
