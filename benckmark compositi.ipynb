{
 "cells": [
  {
   "cell_type": "markdown",
   "metadata": {},
   "source": [
    "# Test compositi\n",
    "### esempio A ([link](https://ntrs.nasa.gov/api/citations/19950009349/downloads/19950009349.pdf) pag 31 e 46)\n",
    "\n",
    "laminato 4 ply [0,+45]s simmetrico con:\n",
    "\n",
    "- E1 = 20010000 [lb/in^2]\n",
    "- E2 = 1301000 \n",
    "- G12 = 1001000\n",
    "- v12 = 0.3 (v21 = 0.02)\n",
    "- thk = 0.005\n",
    "\n",
    "Determino per la ply a zero gradi:\n",
    "\n",
    "- Q11 = 20130785\n",
    "- Q12 = 392656\n",
    "- Q22 = 130853\n",
    "- Q16 = 0\n",
    "- Q66 = 1001000"
   ]
  },
  {
   "cell_type": "code",
   "execution_count": 18,
   "metadata": {},
   "outputs": [
    {
     "name": "stdout",
     "output_type": "stream",
     "text": [
      " ** Noti Ex,Ey,v12 trovo v21 = 0.019505247376311843\n",
      " ** Q per la ply a 0 gradi \n",
      "[[20127779.19369262   392597.31230876        0.        ]\n",
      " [  392597.31230876  1308657.70769586        0.        ]\n",
      " [       0.                0.          1001000.        ]]\n"
     ]
    }
   ],
   "source": [
    "import numpy as np\n",
    "from Composito import get_laminate,Q_ply,get_engineering_constants,get_compliance\n",
    "\n",
    "def matprint(mat, fmt=\"g\"): # https://gist.github.com/braingineer/d801735dac07ff3ac4d746e1f218ab75\n",
    "    col_maxes = [max([len((\"{:\"+fmt+\"}\").format(x)) for x in col]) for col in mat.T]\n",
    "    for x in mat:\n",
    "        for i, y in enumerate(x):\n",
    "            print((\"{:\"+str(col_maxes[i])+fmt+\"}\").format(y), end=\"  \")\n",
    "        print(\"\")\n",
    "        \n",
    "ply_0 = {'s':0.005,'Ex':20010000,'Ey':1301000,'v':0.3,'G':1001000,'fabric':False,'theta':0}\n",
    "ply_c = {'s':0.005,'Ex':20010000,'Ey':1301000,'v':0.3,'G':1001000,'fabric':False,'theta':45}\n",
    "print(f\" ** Noti Ex,Ey,v12 trovo v21 = {ply_0['v']*(ply_0['Ey']/ply_0['Ex'])}\")\n",
    "print(f\" ** Q per la ply a 0 gradi \\n{Q_ply(ply_0)}\")"
   ]
  },
  {
   "cell_type": "markdown",
   "metadata": {},
   "source": [
    "Determino per la ply a 45 gradi:\n",
    "\n",
    "- Q11 = 6557237\n",
    "- Q12 = 4557238\n",
    "- Q22 = 6557237\n",
    "- Q16 = 4705483\n",
    "- Q26 = 4705483\n",
    "- Q66 = 5163582"
   ]
  },
  {
   "cell_type": "code",
   "execution_count": 19,
   "metadata": {},
   "outputs": [
    {
     "name": "stdout",
     "output_type": "stream",
     "text": [
      " ** Q per la ply a 45 gradi \n",
      " [[6556407.8815015  4554407.8815015  4704780.37149919]\n",
      " [4554407.8815015  6556407.8815015  4704780.37149919]\n",
      " [4704780.37149919 4704780.37149919 5162810.56919274]]\n"
     ]
    }
   ],
   "source": [
    "print(f\" ** Q per la ply a 45 gradi \\n {Q_ply(ply_c)}\")"
   ]
  },
  {
   "cell_type": "markdown",
   "metadata": {},
   "source": [
    "Determino le matrici del laminato\n",
    "\n",
    "- A11 = 266880 \n",
    "- A12 = 49479\n",
    "- A22 = 78661\n",
    "- A16 = 47055\n",
    "- A26 = 47055\n",
    "- A66 = 61646\n",
    "\n",
    "### D\n",
    "\n",
    "- D11 = 12.3 [inlb]\n",
    "- D12 = 0.609\n",
    "- D22 = 1.31\n",
    "- D16 = 0.392\n",
    "- D26 = 0.392\n",
    "- D66 = 1.014"
   ]
  },
  {
   "cell_type": "code",
   "execution_count": 21,
   "metadata": {},
   "outputs": [
    {
     "name": "stdout",
     "output_type": "stream",
     "text": [
      "- A\n",
      "[[266841.87075194  49470.0519381   47047.80371499]\n",
      " [ 49470.0519381   78650.65589197  47047.80371499]\n",
      " [ 47047.80371499  47047.80371499  61638.10569193]]\n",
      "- B\n",
      "[[ 0.00000000e+00 -3.55271368e-15  0.00000000e+00]\n",
      " [-3.55271368e-15 -7.10542736e-15  0.00000000e+00]\n",
      " [ 0.00000000e+00  0.00000000e+00  7.10542736e-15]]\n",
      "- D\n",
      "[[12.28757185  0.60854909  0.39206503]\n",
      " [ 0.60854909  1.30975099  0.39206503]\n",
      " [ 0.39206503  0.39206503  1.01415088]]\n",
      "- CEDEVOLEZZA TOTALE\n",
      "      266842       49470.1      47047.8             0  -3.55271e-15            0  \n",
      "     49470.1       78650.7      47047.8  -3.55271e-15  -7.10543e-15            0  \n",
      "     47047.8       47047.8      61638.1             0             0  7.10543e-15  \n",
      "           0  -3.55271e-15            0       12.2876      0.608549     0.392065  \n",
      "-3.55271e-15  -7.10543e-15            0      0.608549       1.30975     0.392065  \n",
      "           0             0  7.10543e-15      0.392065      0.392065      1.01415  \n"
     ]
    }
   ],
   "source": [
    "laminato = [ply_0,ply_c,ply_c,ply_0]\n",
    "A,B,D,_ = get_laminate(laminato)\n",
    "print('- A')\n",
    "print(A)\n",
    "print('- B')\n",
    "print(B)\n",
    "print('- D')\n",
    "print(D)\n",
    "\n",
    "\n",
    "cedevolezza = get_compliance(A,B,D)\n",
    "print('- CEDEVOLEZZA TOTALE')\n",
    "\n",
    "matprint(cedevolezza)\n"
   ]
  },
  {
   "cell_type": "markdown",
   "metadata": {},
   "source": [
    "Determino \n",
    "- Ex = S_x/e_x = (N_x/h)/e_x = 11333000\n",
    "- Nx = A*e_x\n"
   ]
  },
  {
   "cell_type": "code",
   "execution_count": 22,
   "metadata": {},
   "outputs": [
    {
     "name": "stdout",
     "output_type": "stream",
     "text": [
      "11331461.01058543\n",
      "11331461.01058543\n",
      "[Ex,Ey,v] = ...\n",
      "(11331461.01058543, 2097169.9082667995, 0.31724502386941955)\n"
     ]
    }
   ],
   "source": [
    "Ex,Ey,vxy = get_engineering_constants(A,s = 4*ply_0['s'])\n",
    "print(Ex)\n",
    "Ex,Ey,vxy = get_engineering_constants(cedevolezza,s = 4*ply_0['s'])\n",
    "print(Ex)\n",
    "C,s = get_laminate(laminato,Compliance = True)\n",
    "print('[Ex,Ey,v] = ...')\n",
    "print(get_engineering_constants(C,s))\n"
   ]
  },
  {
   "cell_type": "markdown",
   "metadata": {},
   "source": [
    "### stress in laminate\n",
    "\n",
    "Nx = 500 [lb/in]"
   ]
  },
  {
   "cell_type": "code",
   "execution_count": 23,
   "metadata": {},
   "outputs": [
    {
     "name": "stdout",
     "output_type": "stream",
     "text": [
      "- rigidezza TOTALE\n",
      " 4.41249e-06  -1.39984e-06  -2.29953e-06           0           0           0  \n",
      "-1.39984e-06   2.38417e-05  -1.71296e-05           0           0           0  \n",
      "-2.29953e-06  -1.71296e-05   3.10538e-05           0           0           0  \n",
      "           0             0             0   0.0836422  -0.0330024  -0.0195771  \n",
      "           0             0             0  -0.0330024    0.876445    -0.32607  \n",
      "           0             0             0  -0.0195771    -0.32607     1.11967  \n",
      "0.0022062468358357264\n"
     ]
    }
   ],
   "source": [
    "A_i= np.linalg.inv(A)\n",
    "D_i= np.linalg.inv(D)\n",
    "B = np.zeros((3,3))\n",
    "temp_sup = np.concatenate((A_i,B), axis =1)\n",
    "temp_inf = np.concatenate((B,D_i), axis =1)\n",
    "rigidezza = np.concatenate((temp_sup,temp_inf))\n",
    "N = [500,0,0]\n",
    "M = [0,0,0]\n",
    "sollecitazioni = np.concatenate((N,M))\n",
    "np.dot(rigidezza,sollecitazioni)\n",
    "print('- rigidezza TOTALE')\n",
    "matprint(rigidezza)\n",
    "print(A_i[0,0]*500)"
   ]
  },
  {
   "cell_type": "markdown",
   "metadata": {},
   "source": [
    "### esempio B ([link](https://ntrs.nasa.gov/api/citations/19950009349/downloads/19950009349.pdf) pag 38)\n",
    "\n",
    "laminato 2 ply [0,+45] stesso di prima\n",
    "\n",
    "Nota Aij, pari all'esempio B.\n",
    "\n",
    "Determino per LAMINATO:\n",
    "\n",
    "### B\n",
    "\n",
    "- B11 = 170 [lb]\n",
    "- B12 = -52\n",
    "- B22 = -66\n",
    "- B16 = -59\n",
    "- B16 = -59\n",
    "- B66 = -52\n",
    "\n",
    "### D\n",
    "\n",
    "- D11 = 1.112 [inlb]\n",
    "- D12 = 0.206\n",
    "- D22 = 0.328\n",
    "- D16 = 0.196\n",
    "- D26 = 0.196\n",
    "- D66 = 0.257\n",
    "\n",
    "Quindi le costnati ingegeristiche:\n",
    "\n",
    "- Ex = 5839000"
   ]
  },
  {
   "cell_type": "code",
   "execution_count": 24,
   "metadata": {},
   "outputs": [
    {
     "name": "stdout",
     "output_type": "stream",
     "text": [
      "- A\n",
      "[[133420.93537597  24735.02596905  23523.9018575 ]\n",
      " [ 24735.02596905  39325.32794599  23523.9018575 ]\n",
      " [ 23523.9018575   23523.9018575   30819.05284596]]\n",
      "- B\n",
      "[[169.6421414  -52.02263211 -58.80975464]\n",
      " [-52.02263211 -65.59687717 -58.80975464]\n",
      " [-58.80975464 -58.80975464 -52.02263211]]\n",
      "- D\n",
      "[[1.11184113 0.20612522 0.19603252]\n",
      " [0.20612522 0.32771107 0.19603252]\n",
      " [0.19603252 0.19603252 0.25682544]]\n",
      "5867147.696611008\n"
     ]
    }
   ],
   "source": [
    "laminato = [ply_0,ply_c]\n",
    "A,B,D,_ = get_laminate(laminato)\n",
    "print('- A')\n",
    "print(A)\n",
    "print('- B')\n",
    "print(B)\n",
    "print('- D')\n",
    "print(D)\n",
    "\n",
    "temp_sup = np.concatenate((A,B), axis =1)\n",
    "temp_inf = np.concatenate((B,D), axis =1)\n",
    "cedevolezza = np.concatenate((temp_sup,temp_inf))\n",
    "Ex,Ey,vxy = get_engineering_constants(cedevolezza,s = 2*ply_0['s'])\n",
    "print(Ex)"
   ]
  },
  {
   "cell_type": "code",
   "execution_count": null,
   "metadata": {},
   "outputs": [],
   "source": []
  },
  {
   "cell_type": "code",
   "execution_count": null,
   "metadata": {},
   "outputs": [],
   "source": []
  }
 ],
 "metadata": {
  "kernelspec": {
   "display_name": "Python 3",
   "language": "python",
   "name": "python3"
  },
  "language_info": {
   "codemirror_mode": {
    "name": "ipython",
    "version": 3
   },
   "file_extension": ".py",
   "mimetype": "text/x-python",
   "name": "python",
   "nbconvert_exporter": "python",
   "pygments_lexer": "ipython3",
   "version": "3.8.3"
  }
 },
 "nbformat": 4,
 "nbformat_minor": 4
}
